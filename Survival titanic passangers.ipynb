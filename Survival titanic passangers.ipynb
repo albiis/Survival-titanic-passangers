{
 "cells": [
  {
   "cell_type": "markdown",
   "id": "f4321f72",
   "metadata": {},
   "source": [
    "# problem statement\n",
    "\n",
    "The titanic dataset provides info on the fate of the passangeres on the titanic,summarized according to economic status,sex,age,and survival\n",
    "\n",
    "# OUR TASK IS TO PREDICT THE SURVIVAL OF THE TITANIC PASSANGERS\n",
    "\n"
   ]
  },
  {
   "cell_type": "markdown",
   "id": "786f7456",
   "metadata": {},
   "source": [
    "#1) data exploration,perform missing data check, which features are important\n",
    "\n",
    "#2) COnvert categorical data into numerical ones\n",
    "\n",
    "#3) Build a classifier to predic survival\n",
    "\n",
    "#4) Evaluate teh classifcation model, using the classification report"
   ]
  },
  {
   "cell_type": "code",
   "execution_count": 1,
   "id": "dd80aefc",
   "metadata": {},
   "outputs": [],
   "source": [
    "import pandas as pd\n",
    "import numpy as np\n",
    "\n",
    "import matplotlib\n",
    "import matplotlib.pyplot as plt\n",
    "\n",
    "from pandas.plotting import scatter_matrix\n",
    "%matplotlib inline\n",
    "\n",
    "import seaborn as sns\n",
    "sns.set(style='white',color_codes= True)  # set the style,color code, and font scale of the plot\n",
    "sns.set(font_scale=1.5)\n",
    "\n",
    "from sklearn.linear_model import LogisticRegression\n",
    "from sklearn.model_selection import train_test_split\n",
    "\n",
    "from sklearn.metrics import confusion_matrix\n",
    "from sklearn.metrics import classification_report\n",
    "from sklearn.metrics import accuracy_score\n",
    "from sklearn.metrics import precision_score\n",
    "from sklearn.metrics import recall_score\n",
    "from sklearn.metrics import f1_score\n",
    "from sklearn import metrics"
   ]
  },
  {
   "cell_type": "code",
   "execution_count": 2,
   "id": "7a3b5b23",
   "metadata": {},
   "outputs": [
    {
     "data": {
      "text/html": [
       "<div>\n",
       "<style scoped>\n",
       "    .dataframe tbody tr th:only-of-type {\n",
       "        vertical-align: middle;\n",
       "    }\n",
       "\n",
       "    .dataframe tbody tr th {\n",
       "        vertical-align: top;\n",
       "    }\n",
       "\n",
       "    .dataframe thead th {\n",
       "        text-align: right;\n",
       "    }\n",
       "</style>\n",
       "<table border=\"1\" class=\"dataframe\">\n",
       "  <thead>\n",
       "    <tr style=\"text-align: right;\">\n",
       "      <th></th>\n",
       "      <th>PassengerId</th>\n",
       "      <th>Survived</th>\n",
       "      <th>Pclass</th>\n",
       "      <th>Name</th>\n",
       "      <th>Sex</th>\n",
       "      <th>Age</th>\n",
       "      <th>SibSp</th>\n",
       "      <th>Parch</th>\n",
       "      <th>Ticket</th>\n",
       "      <th>Fare</th>\n",
       "      <th>Cabin</th>\n",
       "      <th>Embarked</th>\n",
       "    </tr>\n",
       "  </thead>\n",
       "  <tbody>\n",
       "    <tr>\n",
       "      <th>0</th>\n",
       "      <td>1</td>\n",
       "      <td>0</td>\n",
       "      <td>3</td>\n",
       "      <td>Braund, Mr. Owen Harris</td>\n",
       "      <td>male</td>\n",
       "      <td>22.0</td>\n",
       "      <td>1</td>\n",
       "      <td>0</td>\n",
       "      <td>A/5 21171</td>\n",
       "      <td>7.2500</td>\n",
       "      <td>NaN</td>\n",
       "      <td>S</td>\n",
       "    </tr>\n",
       "    <tr>\n",
       "      <th>1</th>\n",
       "      <td>2</td>\n",
       "      <td>1</td>\n",
       "      <td>1</td>\n",
       "      <td>Cumings, Mrs. John Bradley (Florence Briggs Th...</td>\n",
       "      <td>female</td>\n",
       "      <td>38.0</td>\n",
       "      <td>1</td>\n",
       "      <td>0</td>\n",
       "      <td>PC 17599</td>\n",
       "      <td>71.2833</td>\n",
       "      <td>C85</td>\n",
       "      <td>C</td>\n",
       "    </tr>\n",
       "    <tr>\n",
       "      <th>2</th>\n",
       "      <td>3</td>\n",
       "      <td>1</td>\n",
       "      <td>3</td>\n",
       "      <td>Heikkinen, Miss. Laina</td>\n",
       "      <td>female</td>\n",
       "      <td>26.0</td>\n",
       "      <td>0</td>\n",
       "      <td>0</td>\n",
       "      <td>STON/O2. 3101282</td>\n",
       "      <td>7.9250</td>\n",
       "      <td>NaN</td>\n",
       "      <td>S</td>\n",
       "    </tr>\n",
       "    <tr>\n",
       "      <th>3</th>\n",
       "      <td>4</td>\n",
       "      <td>1</td>\n",
       "      <td>1</td>\n",
       "      <td>Futrelle, Mrs. Jacques Heath (Lily May Peel)</td>\n",
       "      <td>female</td>\n",
       "      <td>35.0</td>\n",
       "      <td>1</td>\n",
       "      <td>0</td>\n",
       "      <td>113803</td>\n",
       "      <td>53.1000</td>\n",
       "      <td>C123</td>\n",
       "      <td>S</td>\n",
       "    </tr>\n",
       "    <tr>\n",
       "      <th>4</th>\n",
       "      <td>5</td>\n",
       "      <td>0</td>\n",
       "      <td>3</td>\n",
       "      <td>Allen, Mr. William Henry</td>\n",
       "      <td>male</td>\n",
       "      <td>35.0</td>\n",
       "      <td>0</td>\n",
       "      <td>0</td>\n",
       "      <td>373450</td>\n",
       "      <td>8.0500</td>\n",
       "      <td>NaN</td>\n",
       "      <td>S</td>\n",
       "    </tr>\n",
       "  </tbody>\n",
       "</table>\n",
       "</div>"
      ],
      "text/plain": [
       "   PassengerId  Survived  Pclass  \\\n",
       "0            1         0       3   \n",
       "1            2         1       1   \n",
       "2            3         1       3   \n",
       "3            4         1       1   \n",
       "4            5         0       3   \n",
       "\n",
       "                                                Name     Sex   Age  SibSp  \\\n",
       "0                            Braund, Mr. Owen Harris    male  22.0      1   \n",
       "1  Cumings, Mrs. John Bradley (Florence Briggs Th...  female  38.0      1   \n",
       "2                             Heikkinen, Miss. Laina  female  26.0      0   \n",
       "3       Futrelle, Mrs. Jacques Heath (Lily May Peel)  female  35.0      1   \n",
       "4                           Allen, Mr. William Henry    male  35.0      0   \n",
       "\n",
       "   Parch            Ticket     Fare Cabin Embarked  \n",
       "0      0         A/5 21171   7.2500   NaN        S  \n",
       "1      0          PC 17599  71.2833   C85        C  \n",
       "2      0  STON/O2. 3101282   7.9250   NaN        S  \n",
       "3      0            113803  53.1000  C123        S  \n",
       "4      0            373450   8.0500   NaN        S  "
      ]
     },
     "execution_count": 2,
     "metadata": {},
     "output_type": "execute_result"
    }
   ],
   "source": [
    "df_train= pd.read_csv(\"C:/Users/Dell/Desktop/ML_Simply_Learn_practice/DATASETS/Demo Datasets/Lesson 4/train.csv\")\n",
    "df_test= pd.read_csv(\"C:/Users/Dell/Desktop/ML_Simply_Learn_practice/DATASETS/Demo Datasets/Lesson 4/test.csv\")\n",
    "df_train.shape\n",
    "df_train.head()"
   ]
  },
  {
   "cell_type": "code",
   "execution_count": 3,
   "id": "86e1da74",
   "metadata": {},
   "outputs": [
    {
     "data": {
      "text/plain": [
       "0    549\n",
       "1    342\n",
       "Name: Survived, dtype: int64"
      ]
     },
     "execution_count": 3,
     "metadata": {},
     "output_type": "execute_result"
    }
   ],
   "source": [
    " df_train.Survived.value_counts() # 1 survive, 0 did not"
   ]
  },
  {
   "cell_type": "code",
   "execution_count": 4,
   "id": "48128579",
   "metadata": {},
   "outputs": [
    {
     "data": {
      "text/plain": [
       "male      577\n",
       "female    314\n",
       "Name: Sex, dtype: int64"
      ]
     },
     "execution_count": 4,
     "metadata": {},
     "output_type": "execute_result"
    }
   ],
   "source": [
    "df_train.Sex.value_counts()"
   ]
  },
  {
   "cell_type": "code",
   "execution_count": 5,
   "id": "519d7819",
   "metadata": {},
   "outputs": [
    {
     "data": {
      "text/plain": [
       "S    644\n",
       "C    168\n",
       "Q     77\n",
       "Name: Embarked, dtype: int64"
      ]
     },
     "execution_count": 5,
     "metadata": {},
     "output_type": "execute_result"
    }
   ],
   "source": [
    "df_train.Embarked.value_counts()"
   ]
  },
  {
   "cell_type": "code",
   "execution_count": 6,
   "id": "c727fcaa",
   "metadata": {},
   "outputs": [
    {
     "data": {
      "text/plain": [
       "PassengerId      0\n",
       "Survived         0\n",
       "Pclass           0\n",
       "Name             0\n",
       "Sex              0\n",
       "Age            177\n",
       "SibSp            0\n",
       "Parch            0\n",
       "Ticket           0\n",
       "Fare             0\n",
       "Cabin          687\n",
       "Embarked         2\n",
       "dtype: int64"
      ]
     },
     "execution_count": 6,
     "metadata": {},
     "output_type": "execute_result"
    }
   ],
   "source": [
    "df_train.isnull().sum() # see cabin has a lot of missing values\n",
    "# we will drop that value completly\n",
    "\n",
    "# for the age we will find a way to approx these values, bcs is a relevat predictor for the survuval rate"
   ]
  },
  {
   "cell_type": "code",
   "execution_count": 7,
   "id": "de4f7a22",
   "metadata": {},
   "outputs": [
    {
     "data": {
      "text/html": [
       "<div>\n",
       "<style scoped>\n",
       "    .dataframe tbody tr th:only-of-type {\n",
       "        vertical-align: middle;\n",
       "    }\n",
       "\n",
       "    .dataframe tbody tr th {\n",
       "        vertical-align: top;\n",
       "    }\n",
       "\n",
       "    .dataframe thead th {\n",
       "        text-align: right;\n",
       "    }\n",
       "</style>\n",
       "<table border=\"1\" class=\"dataframe\">\n",
       "  <thead>\n",
       "    <tr style=\"text-align: right;\">\n",
       "      <th></th>\n",
       "      <th>PassengerId</th>\n",
       "      <th>Survived</th>\n",
       "      <th>Age</th>\n",
       "      <th>SibSp</th>\n",
       "      <th>Parch</th>\n",
       "      <th>Fare</th>\n",
       "    </tr>\n",
       "    <tr>\n",
       "      <th>Pclass</th>\n",
       "      <th></th>\n",
       "      <th></th>\n",
       "      <th></th>\n",
       "      <th></th>\n",
       "      <th></th>\n",
       "      <th></th>\n",
       "    </tr>\n",
       "  </thead>\n",
       "  <tbody>\n",
       "    <tr>\n",
       "      <th>1</th>\n",
       "      <td>461.597222</td>\n",
       "      <td>0.629630</td>\n",
       "      <td>38.233441</td>\n",
       "      <td>0.416667</td>\n",
       "      <td>0.356481</td>\n",
       "      <td>84.154687</td>\n",
       "    </tr>\n",
       "    <tr>\n",
       "      <th>2</th>\n",
       "      <td>445.956522</td>\n",
       "      <td>0.472826</td>\n",
       "      <td>29.877630</td>\n",
       "      <td>0.402174</td>\n",
       "      <td>0.380435</td>\n",
       "      <td>20.662183</td>\n",
       "    </tr>\n",
       "    <tr>\n",
       "      <th>3</th>\n",
       "      <td>439.154786</td>\n",
       "      <td>0.242363</td>\n",
       "      <td>25.140620</td>\n",
       "      <td>0.615071</td>\n",
       "      <td>0.393075</td>\n",
       "      <td>13.675550</td>\n",
       "    </tr>\n",
       "  </tbody>\n",
       "</table>\n",
       "</div>"
      ],
      "text/plain": [
       "        PassengerId  Survived        Age     SibSp     Parch       Fare\n",
       "Pclass                                                                 \n",
       "1        461.597222  0.629630  38.233441  0.416667  0.356481  84.154687\n",
       "2        445.956522  0.472826  29.877630  0.402174  0.380435  20.662183\n",
       "3        439.154786  0.242363  25.140620  0.615071  0.393075  13.675550"
      ]
     },
     "execution_count": 7,
     "metadata": {},
     "output_type": "execute_result"
    }
   ],
   "source": [
    "df_train.groupby(['Pclass']).mean()\n",
    "# i grupon sipas classave te pasagjerve, pastaj i gjen mesataren per cdo klase"
   ]
  },
  {
   "cell_type": "code",
   "execution_count": 8,
   "id": "2712ca73",
   "metadata": {},
   "outputs": [
    {
     "data": {
      "text/html": [
       "<div>\n",
       "<style scoped>\n",
       "    .dataframe tbody tr th:only-of-type {\n",
       "        vertical-align: middle;\n",
       "    }\n",
       "\n",
       "    .dataframe tbody tr th {\n",
       "        vertical-align: top;\n",
       "    }\n",
       "\n",
       "    .dataframe thead th {\n",
       "        text-align: right;\n",
       "    }\n",
       "</style>\n",
       "<table border=\"1\" class=\"dataframe\">\n",
       "  <thead>\n",
       "    <tr style=\"text-align: right;\">\n",
       "      <th></th>\n",
       "      <th>Survived</th>\n",
       "      <th>Pclass</th>\n",
       "      <th>Sex</th>\n",
       "      <th>Age</th>\n",
       "      <th>SibSp</th>\n",
       "      <th>Parch</th>\n",
       "      <th>Fare</th>\n",
       "      <th>Embarked</th>\n",
       "    </tr>\n",
       "  </thead>\n",
       "  <tbody>\n",
       "    <tr>\n",
       "      <th>0</th>\n",
       "      <td>0</td>\n",
       "      <td>3</td>\n",
       "      <td>male</td>\n",
       "      <td>22.0</td>\n",
       "      <td>1</td>\n",
       "      <td>0</td>\n",
       "      <td>7.2500</td>\n",
       "      <td>S</td>\n",
       "    </tr>\n",
       "    <tr>\n",
       "      <th>1</th>\n",
       "      <td>1</td>\n",
       "      <td>1</td>\n",
       "      <td>female</td>\n",
       "      <td>38.0</td>\n",
       "      <td>1</td>\n",
       "      <td>0</td>\n",
       "      <td>71.2833</td>\n",
       "      <td>C</td>\n",
       "    </tr>\n",
       "    <tr>\n",
       "      <th>2</th>\n",
       "      <td>1</td>\n",
       "      <td>3</td>\n",
       "      <td>female</td>\n",
       "      <td>26.0</td>\n",
       "      <td>0</td>\n",
       "      <td>0</td>\n",
       "      <td>7.9250</td>\n",
       "      <td>S</td>\n",
       "    </tr>\n",
       "    <tr>\n",
       "      <th>3</th>\n",
       "      <td>1</td>\n",
       "      <td>1</td>\n",
       "      <td>female</td>\n",
       "      <td>35.0</td>\n",
       "      <td>1</td>\n",
       "      <td>0</td>\n",
       "      <td>53.1000</td>\n",
       "      <td>S</td>\n",
       "    </tr>\n",
       "    <tr>\n",
       "      <th>4</th>\n",
       "      <td>0</td>\n",
       "      <td>3</td>\n",
       "      <td>male</td>\n",
       "      <td>35.0</td>\n",
       "      <td>0</td>\n",
       "      <td>0</td>\n",
       "      <td>8.0500</td>\n",
       "      <td>S</td>\n",
       "    </tr>\n",
       "  </tbody>\n",
       "</table>\n",
       "</div>"
      ],
      "text/plain": [
       "   Survived  Pclass     Sex   Age  SibSp  Parch     Fare Embarked\n",
       "0         0       3    male  22.0      1      0   7.2500        S\n",
       "1         1       1  female  38.0      1      0  71.2833        C\n",
       "2         1       3  female  26.0      0      0   7.9250        S\n",
       "3         1       1  female  35.0      1      0  53.1000        S\n",
       "4         0       3    male  35.0      0      0   8.0500        S"
      ]
     },
     "execution_count": 8,
     "metadata": {},
     "output_type": "execute_result"
    }
   ],
   "source": [
    "# name, passenger ID and ticket number are irrelevant for predicting survivability\n",
    "\n",
    "df_train = df_train.drop(['PassengerId', 'Name', 'Ticket', 'Cabin'],axis=1)\n",
    "df_train.head()"
   ]
  },
  {
   "cell_type": "code",
   "execution_count": 9,
   "id": "61159c00",
   "metadata": {},
   "outputs": [],
   "source": [
    "# we need to deal with the missing values in the age variable\n",
    "\n",
    "\n",
    "# Write a function to find each null value in the age variable\n",
    " # we will asign the age of each null value based on the passenger class\n",
    "    \n",
    "    \n",
    "def age_approx(cols):\n",
    "    Age = cols[0]\n",
    "    Pclass = cols[1]\n",
    "    \n",
    "    if pd.isnull(Age):\n",
    "        if Pclass == 1:\n",
    "            \n",
    "            return 38\n",
    "        elif Pclass ==2:\n",
    "            return 29\n",
    "        else:\n",
    "            return 25\n",
    "    else:\n",
    "            return Age"
   ]
  },
  {
   "cell_type": "code",
   "execution_count": 10,
   "id": "559d9e89",
   "metadata": {},
   "outputs": [],
   "source": [
    "# for each null value this function will check the value of the passenger class \n",
    "# and decide an age value according to the average age of passengers in that class\n",
    "\n",
    "# Replace null values in dataframe\n",
    "\n",
    "df_train['Age']=df_train[['Age','Pclass']].apply(age_approx,axis=1)"
   ]
  },
  {
   "cell_type": "code",
   "execution_count": 11,
   "id": "11ab3408",
   "metadata": {},
   "outputs": [
    {
     "data": {
      "text/plain": [
       "Survived    0\n",
       "Pclass      0\n",
       "Sex         0\n",
       "Age         0\n",
       "SibSp       0\n",
       "Parch       0\n",
       "Fare        0\n",
       "Embarked    2\n",
       "dtype: int64"
      ]
     },
     "execution_count": 11,
     "metadata": {},
     "output_type": "execute_result"
    }
   ],
   "source": [
    "df_train.isnull().sum()"
   ]
  },
  {
   "cell_type": "code",
   "execution_count": 12,
   "id": "f2ce4420",
   "metadata": {},
   "outputs": [
    {
     "data": {
      "text/plain": [
       "Survived    0\n",
       "Pclass      0\n",
       "Sex         0\n",
       "Age         0\n",
       "SibSp       0\n",
       "Parch       0\n",
       "Fare        0\n",
       "Embarked    0\n",
       "dtype: int64"
      ]
     },
     "execution_count": 12,
     "metadata": {},
     "output_type": "execute_result"
    }
   ],
   "source": [
    "df_train.dropna(inplace=True)\n",
    "df_train.isnull().sum()"
   ]
  },
  {
   "cell_type": "code",
   "execution_count": 13,
   "id": "79d70ec0",
   "metadata": {},
   "outputs": [
    {
     "data": {
      "text/plain": [
       "Survived      int64\n",
       "Pclass        int64\n",
       "Sex          object\n",
       "Age         float64\n",
       "SibSp         int64\n",
       "Parch         int64\n",
       "Fare        float64\n",
       "Embarked     object\n",
       "dtype: object"
      ]
     },
     "execution_count": 13,
     "metadata": {},
     "output_type": "execute_result"
    }
   ],
   "source": [
    "df_train.dtypes  # sex and Embarked are categorical data"
   ]
  },
  {
   "cell_type": "code",
   "execution_count": 14,
   "id": "f1407edc",
   "metadata": {},
   "outputs": [],
   "source": [
    "# we convert these data to numerical values\n",
    "\n",
    "df_train_dummied= pd.get_dummies(df_train,columns=['Sex'])"
   ]
  },
  {
   "cell_type": "code",
   "execution_count": 15,
   "id": "04092fe6",
   "metadata": {},
   "outputs": [],
   "source": [
    "df_train_dummied= pd.get_dummies(df_train_dummied,columns=['Embarked'])"
   ]
  },
  {
   "cell_type": "code",
   "execution_count": 16,
   "id": "9888225b",
   "metadata": {},
   "outputs": [
    {
     "data": {
      "text/html": [
       "<div>\n",
       "<style scoped>\n",
       "    .dataframe tbody tr th:only-of-type {\n",
       "        vertical-align: middle;\n",
       "    }\n",
       "\n",
       "    .dataframe tbody tr th {\n",
       "        vertical-align: top;\n",
       "    }\n",
       "\n",
       "    .dataframe thead th {\n",
       "        text-align: right;\n",
       "    }\n",
       "</style>\n",
       "<table border=\"1\" class=\"dataframe\">\n",
       "  <thead>\n",
       "    <tr style=\"text-align: right;\">\n",
       "      <th></th>\n",
       "      <th>Survived</th>\n",
       "      <th>Pclass</th>\n",
       "      <th>Age</th>\n",
       "      <th>SibSp</th>\n",
       "      <th>Parch</th>\n",
       "      <th>Fare</th>\n",
       "      <th>Sex_female</th>\n",
       "      <th>Sex_male</th>\n",
       "      <th>Embarked_C</th>\n",
       "      <th>Embarked_Q</th>\n",
       "      <th>Embarked_S</th>\n",
       "    </tr>\n",
       "  </thead>\n",
       "  <tbody>\n",
       "    <tr>\n",
       "      <th>0</th>\n",
       "      <td>0</td>\n",
       "      <td>3</td>\n",
       "      <td>22.0</td>\n",
       "      <td>1</td>\n",
       "      <td>0</td>\n",
       "      <td>7.2500</td>\n",
       "      <td>0</td>\n",
       "      <td>1</td>\n",
       "      <td>0</td>\n",
       "      <td>0</td>\n",
       "      <td>1</td>\n",
       "    </tr>\n",
       "    <tr>\n",
       "      <th>1</th>\n",
       "      <td>1</td>\n",
       "      <td>1</td>\n",
       "      <td>38.0</td>\n",
       "      <td>1</td>\n",
       "      <td>0</td>\n",
       "      <td>71.2833</td>\n",
       "      <td>1</td>\n",
       "      <td>0</td>\n",
       "      <td>1</td>\n",
       "      <td>0</td>\n",
       "      <td>0</td>\n",
       "    </tr>\n",
       "    <tr>\n",
       "      <th>2</th>\n",
       "      <td>1</td>\n",
       "      <td>3</td>\n",
       "      <td>26.0</td>\n",
       "      <td>0</td>\n",
       "      <td>0</td>\n",
       "      <td>7.9250</td>\n",
       "      <td>1</td>\n",
       "      <td>0</td>\n",
       "      <td>0</td>\n",
       "      <td>0</td>\n",
       "      <td>1</td>\n",
       "    </tr>\n",
       "    <tr>\n",
       "      <th>3</th>\n",
       "      <td>1</td>\n",
       "      <td>1</td>\n",
       "      <td>35.0</td>\n",
       "      <td>1</td>\n",
       "      <td>0</td>\n",
       "      <td>53.1000</td>\n",
       "      <td>1</td>\n",
       "      <td>0</td>\n",
       "      <td>0</td>\n",
       "      <td>0</td>\n",
       "      <td>1</td>\n",
       "    </tr>\n",
       "    <tr>\n",
       "      <th>4</th>\n",
       "      <td>0</td>\n",
       "      <td>3</td>\n",
       "      <td>35.0</td>\n",
       "      <td>0</td>\n",
       "      <td>0</td>\n",
       "      <td>8.0500</td>\n",
       "      <td>0</td>\n",
       "      <td>1</td>\n",
       "      <td>0</td>\n",
       "      <td>0</td>\n",
       "      <td>1</td>\n",
       "    </tr>\n",
       "  </tbody>\n",
       "</table>\n",
       "</div>"
      ],
      "text/plain": [
       "   Survived  Pclass   Age  SibSp  Parch     Fare  Sex_female  Sex_male  \\\n",
       "0         0       3  22.0      1      0   7.2500           0         1   \n",
       "1         1       1  38.0      1      0  71.2833           1         0   \n",
       "2         1       3  26.0      0      0   7.9250           1         0   \n",
       "3         1       1  35.0      1      0  53.1000           1         0   \n",
       "4         0       3  35.0      0      0   8.0500           0         1   \n",
       "\n",
       "   Embarked_C  Embarked_Q  Embarked_S  \n",
       "0           0           0           1  \n",
       "1           1           0           0  \n",
       "2           0           0           1  \n",
       "3           0           0           1  \n",
       "4           0           0           1  "
      ]
     },
     "execution_count": 16,
     "metadata": {},
     "output_type": "execute_result"
    }
   ],
   "source": [
    "df_train_dummied.head()"
   ]
  },
  {
   "cell_type": "code",
   "execution_count": 17,
   "id": "7382ef7e",
   "metadata": {},
   "outputs": [
    {
     "data": {
      "text/plain": [
       "<AxesSubplot:>"
      ]
     },
     "execution_count": 17,
     "metadata": {},
     "output_type": "execute_result"
    },
    {
     "data": {
      "image/png": "[encoded data removed]",
      "text/plain": [
       "<Figure size 432x288 with 2 Axes>"
      ]
     },
     "metadata": {},
     "output_type": "display_data"
    }
   ],
   "source": [
    "plt.figure(figsize=(6,4))\n",
    "sns.heatmap(df_train_dummied.corr())"
   ]
  },
  {
   "cell_type": "code",
   "execution_count": 18,
   "id": "a091c3ac",
   "metadata": {},
   "outputs": [],
   "source": [
    "used_features = ['Pclass', 'Age', 'SibSp', 'Parch', 'Sex_female','Sex_male'\n",
    "                ,'Embarked_C', 'Embarked_Q', 'Embarked_S']\n",
    "\n",
    "X=df_train_dummied[used_features].values # independent values\n",
    "y=df_train_dummied['Survived'] # dependent values"
   ]
  },
  {
   "cell_type": "code",
   "execution_count": 19,
   "id": "ec8b8875",
   "metadata": {},
   "outputs": [],
   "source": [
    "# splitting the dataset\n",
    "\n",
    "X_train,X_test,y_train,y_test = train_test_split(X,y,test_size=0.3,random_state=1)"
   ]
  },
  {
   "cell_type": "code",
   "execution_count": 20,
   "id": "725c1e2a",
   "metadata": {},
   "outputs": [
    {
     "name": "stdout",
     "output_type": "stream",
     "text": [
      "(622, 9)\n",
      "(267, 9)\n",
      "(622,)\n",
      "(267,)\n"
     ]
    }
   ],
   "source": [
    "print(X_train.shape)\n",
    "print(X_test.shape)\n",
    "print(y_train.shape)\n",
    "print(y_test.shape)"
   ]
  },
  {
   "cell_type": "code",
   "execution_count": 21,
   "id": "2e1a7fc7",
   "metadata": {},
   "outputs": [
    {
     "name": "stderr",
     "output_type": "stream",
     "text": [
      "C:\\Users\\Dell\\anaconda3\\lib\\site-packages\\sklearn\\linear_model\\_logistic.py:763: ConvergenceWarning: lbfgs failed to converge (status=1):\n",
      "STOP: TOTAL NO. of ITERATIONS REACHED LIMIT.\n",
      "\n",
      "Increase the number of iterations (max_iter) or scale the data as shown in:\n",
      "    https://scikit-learn.org/stable/modules/preprocessing.html\n",
      "Please also refer to the documentation for alternative solver options:\n",
      "    https://scikit-learn.org/stable/modules/linear_model.html#logistic-regression\n",
      "  n_iter_i = _check_optimize_result(\n"
     ]
    },
    {
     "data": {
      "text/plain": [
       "LogisticRegression()"
      ]
     },
     "execution_count": 21,
     "metadata": {},
     "output_type": "execute_result"
    }
   ],
   "source": [
    "# train the classifier\n",
    "\n",
    "LogReg = LogisticRegression()\n",
    "\n",
    "LogReg.fit(X_train,y_train) # apply the logistic regression in training set\n",
    "\n"
   ]
  },
  {
   "cell_type": "code",
   "execution_count": 22,
   "id": "87619481",
   "metadata": {},
   "outputs": [
    {
     "data": {
      "text/plain": [
       "array([1, 1, 0, 1, 0, 1, 1, 0, 0, 1, 0, 1, 0, 1, 0, 1, 0, 1, 1, 1, 0, 0,\n",
       "       0, 0, 0, 0, 1, 0, 0, 1, 1, 1, 1, 1, 0, 1, 0, 0, 1, 0, 1, 0, 1, 0,\n",
       "       0, 1, 1, 0, 1, 0, 0, 1, 0, 1, 0, 1, 0, 0, 0, 0, 0, 0, 0, 0, 1, 1,\n",
       "       0, 0, 0, 1, 0, 1, 0, 0, 1, 1, 0, 0, 0, 0, 0, 0, 1, 1, 0, 0, 1, 1,\n",
       "       0, 1, 0, 1, 0, 0, 1, 0, 1, 1, 1, 1, 0, 1, 0, 0, 0, 0, 1, 0, 0, 0,\n",
       "       0, 0, 0, 1, 1, 1, 0, 1, 1, 0, 0, 1, 1, 1, 1, 0, 1, 0, 0, 0, 1, 0,\n",
       "       0, 0, 1, 1, 0, 0, 0, 0, 0, 1, 0, 1, 0, 0, 1, 1, 1, 0, 0, 0, 1, 0,\n",
       "       1, 1, 0, 1, 0, 0, 1, 0, 0, 0, 0, 0, 1, 1, 0, 1, 0, 0, 0, 0, 0, 1,\n",
       "       0, 0, 0, 0, 0, 0, 0, 0, 1, 0, 1, 0, 1, 0, 0, 0, 0, 0, 0, 0, 0, 1,\n",
       "       0, 1, 0, 1, 0, 0, 1, 0, 0, 1, 0, 1, 0, 0, 0, 0, 1, 1, 0, 1, 0, 0,\n",
       "       0, 1, 0, 1, 1, 0, 0, 0, 0, 0, 1, 1, 1, 0, 0, 0, 0, 0, 1, 0, 1, 0,\n",
       "       0, 0, 0, 1, 1, 0, 0, 0, 1, 1, 1, 0, 1, 1, 0, 0, 1, 0, 1, 0, 0, 0,\n",
       "       1, 0, 0], dtype=int64)"
      ]
     },
     "execution_count": 22,
     "metadata": {},
     "output_type": "execute_result"
    }
   ],
   "source": [
    "# storethe prediction given by the classifier\n",
    "\n",
    "y_pred = LogReg.predict(X_test)\n",
    "y_pred"
   ]
  },
  {
   "cell_type": "code",
   "execution_count": 23,
   "id": "2264040a",
   "metadata": {},
   "outputs": [
    {
     "data": {
      "text/plain": [
       "array([[143,  23],\n",
       "       [ 20,  81]], dtype=int64)"
      ]
     },
     "execution_count": 23,
     "metadata": {},
     "output_type": "execute_result"
    }
   ],
   "source": [
    "metrics.confusion_matrix(y_test,y_pred) # evaluate the accuracy of classification"
   ]
  },
  {
   "cell_type": "code",
   "execution_count": 24,
   "id": "5aa7639b",
   "metadata": {},
   "outputs": [
    {
     "data": {
      "text/plain": [
       "0.8389513108614233"
      ]
     },
     "execution_count": 24,
     "metadata": {},
     "output_type": "execute_result"
    }
   ],
   "source": [
    "metrics.accuracy_score(y_test,y_pred)\n",
    "# 83% accurecy"
   ]
  },
  {
   "cell_type": "code",
   "execution_count": 25,
   "id": "077dec35",
   "metadata": {},
   "outputs": [
    {
     "data": {
      "text/plain": [
       "267"
      ]
     },
     "execution_count": 25,
     "metadata": {},
     "output_type": "execute_result"
    }
   ],
   "source": [
    "len(X_test)"
   ]
  },
  {
   "cell_type": "code",
   "execution_count": 26,
   "id": "084f2207",
   "metadata": {},
   "outputs": [
    {
     "name": "stdout",
     "output_type": "stream",
     "text": [
      "              precision    recall  f1-score   support\n",
      "\n",
      "           0       0.88      0.86      0.87       166\n",
      "           1       0.78      0.80      0.79       101\n",
      "\n",
      "    accuracy                           0.84       267\n",
      "   macro avg       0.83      0.83      0.83       267\n",
      "weighted avg       0.84      0.84      0.84       267\n",
      "\n"
     ]
    }
   ],
   "source": [
    "print(classification_report(y_test,y_pred))"
   ]
  },
  {
   "cell_type": "code",
   "execution_count": 27,
   "id": "ca2230b9",
   "metadata": {},
   "outputs": [
    {
     "data": {
      "text/plain": [
       "array([[-1.04399265, -0.04032503, -0.24266183, -0.04369954,  1.17742407,\n",
       "        -1.20560443,  0.32632923, -0.03178822, -0.32272138]])"
      ]
     },
     "execution_count": 27,
     "metadata": {},
     "output_type": "execute_result"
    }
   ],
   "source": [
    "LogReg.coef_"
   ]
  },
  {
   "cell_type": "code",
   "execution_count": 28,
   "id": "eb88bad1",
   "metadata": {},
   "outputs": [
    {
     "data": {
      "text/plain": [
       "array([3.70647792])"
      ]
     },
     "execution_count": 28,
     "metadata": {},
     "output_type": "execute_result"
    }
   ],
   "source": [
    "LogReg.intercept_"
   ]
  },
  {
   "cell_type": "code",
   "execution_count": 29,
   "id": "cea28212",
   "metadata": {},
   "outputs": [
    {
     "data": {
      "text/plain": [
       "array([[-1.32902053, -0.30752625],\n",
       "       [-0.92096553, -0.50772119],\n",
       "       [-0.05411696, -2.94354417],\n",
       "       [-1.36858943, -0.29365407],\n",
       "       [-0.05794861, -2.87703308],\n",
       "       [-2.00740891, -0.14425878],\n",
       "       [-1.10542716, -0.40207501],\n",
       "       [-0.65759308, -0.73001213],\n",
       "       [-0.24605265, -1.52271474],\n",
       "       [-0.90153623, -0.52078431],\n",
       "       [-0.30177561, -1.3451677 ],\n",
       "       [-1.54785411, -0.23915089],\n",
       "       [-0.29255562, -1.37181464],\n",
       "       [-1.93829716, -0.15542516],\n",
       "       [-0.14726625, -1.98824272],\n",
       "       [-1.00045972, -0.45840769],\n",
       "       [-0.1112785 , -2.25084254],\n",
       "       [-1.21301765, -0.35282349],\n",
       "       [-1.73527353, -0.19401197],\n",
       "       [-0.91988442, -0.50843698],\n",
       "       [-0.10075847, -2.34498523],\n",
       "       [-0.59936507, -0.79664322],\n",
       "       [-0.14655991, -1.99270613],\n",
       "       [-0.06516273, -2.76327211],\n",
       "       [-0.65791977, -0.72966102],\n",
       "       [-0.66222875, -0.72505215],\n",
       "       [-3.23845245, -0.04001456],\n",
       "       [-0.14183947, -2.02314097],\n",
       "       [-0.10462409, -2.30923747],\n",
       "       [-1.11122702, -0.39921692],\n",
       "       [-0.92568705, -0.50461011],\n",
       "       [-0.89624813, -0.52441406],\n",
       "       [-1.8737247 , -0.16670493],\n",
       "       [-0.88956869, -0.52904546],\n",
       "       [-0.51374137, -0.911933  ],\n",
       "       [-1.80588913, -0.17951942],\n",
       "       [-0.42320194, -1.0640554 ],\n",
       "       [-0.13154023, -2.09349179],\n",
       "       [-1.41626984, -0.27788665],\n",
       "       [-0.54712828, -0.86419421],\n",
       "       [-0.82764271, -0.57461491],\n",
       "       [-0.09284461, -2.42289118],\n",
       "       [-1.15166708, -0.37995724],\n",
       "       [-0.13154023, -2.09349179],\n",
       "       [-0.22723707, -1.59322939],\n",
       "       [-1.45008595, -0.26729155],\n",
       "       [-1.76860423, -0.18701765],\n",
       "       [-0.20462692, -1.68713623],\n",
       "       [-2.8129192 , -0.06190679],\n",
       "       [-0.07994505, -2.56612198],\n",
       "       [-0.13154023, -2.09349179],\n",
       "       [-0.82642241, -0.57556343],\n",
       "       [-0.12694711, -2.12678688],\n",
       "       [-2.40230716, -0.09487006],\n",
       "       [-0.29255562, -1.37181464],\n",
       "       [-2.65893309, -0.07259531],\n",
       "       [-0.25403929, -1.49459843],\n",
       "       [-0.04917597, -3.03683747],\n",
       "       [-0.35968214, -1.19699099],\n",
       "       [-0.06295841, -2.79659499],\n",
       "       [-0.20380346, -1.69077086],\n",
       "       [-0.15288523, -1.95353667],\n",
       "       [-0.51374137, -0.911933  ],\n",
       "       [-0.13154023, -2.09349179],\n",
       "       [-0.82642241, -0.57556343],\n",
       "       [-1.44695969, -0.26825146],\n",
       "       [-0.13154023, -2.09349179],\n",
       "       [-0.09330407, -2.41818088],\n",
       "       [-0.16908891, -1.86068405],\n",
       "       [-2.92383729, -0.0552243 ],\n",
       "       [-0.14413092, -2.00823329],\n",
       "       [-2.88572064, -0.05743268],\n",
       "       [-0.42713102, -1.05663979],\n",
       "       [-0.15288523, -1.95353667],\n",
       "       [-1.15703149, -0.37748738],\n",
       "       [-2.00740891, -0.14425878],\n",
       "       [-0.1723179 , -1.8433363 ],\n",
       "       [-0.07989039, -2.56677898],\n",
       "       [-0.1840247 , -1.78328701],\n",
       "       [-0.18331627, -1.78680067],\n",
       "       [-0.1723179 , -1.8433363 ],\n",
       "       [-0.14726625, -1.98824272],\n",
       "       [-3.23845245, -0.04001456],\n",
       "       [-2.808857  , -0.06216677],\n",
       "       [-0.27270651, -1.43261559],\n",
       "       [-0.4821178 , -0.96095949],\n",
       "       [-0.81290004, -0.5862136 ],\n",
       "       [-0.84737068, -0.55956118],\n",
       "       [-0.13154023, -2.09349179],\n",
       "       [-1.00045972, -0.45840769],\n",
       "       [-0.10877671, -2.27235341],\n",
       "       [-1.11122702, -0.39921692],\n",
       "       [-0.0683867 , -2.7165754 ],\n",
       "       [-0.23825949, -1.55116044],\n",
       "       [-1.36500724, -0.29487968],\n",
       "       [-0.17655917, -1.82108025],\n",
       "       [-1.48454379, -0.25696627],\n",
       "       [-1.2960429 , -0.31967147],\n",
       "       [-1.36500724, -0.29487968],\n",
       "       [-1.54397184, -0.24020236],\n",
       "       [-0.16472251, -1.8847239 ],\n",
       "       [-1.07640768, -0.41675508],\n",
       "       [-0.50100165, -0.93121006],\n",
       "       [-0.15870206, -1.91902848],\n",
       "       [-0.15870206, -1.91902848],\n",
       "       [-0.10016386, -2.35061176],\n",
       "       [-1.97652501, -0.1491381 ],\n",
       "       [-0.16472251, -1.8847239 ],\n",
       "       [-0.26515724, -1.4570831 ],\n",
       "       [-0.20462692, -1.68713623],\n",
       "       [-0.45177149, -1.01197489],\n",
       "       [-0.29255562, -1.37181464],\n",
       "       [-0.23825949, -1.55116044],\n",
       "       [-1.67970083, -0.20632299],\n",
       "       [-1.02067145, -0.44683866],\n",
       "       [-2.43948276, -0.09124499],\n",
       "       [-0.0889567 , -2.4637542 ],\n",
       "       [-0.90153623, -0.52078431],\n",
       "       [-2.70322584, -0.06933836],\n",
       "       [-0.23650389, -1.55771308],\n",
       "       [-0.13154023, -2.09349179],\n",
       "       [-1.57860705, -0.23100211],\n",
       "       [-1.11122702, -0.39921692],\n",
       "       [-0.69567971, -0.69062105],\n",
       "       [-1.56905071, -0.23350046],\n",
       "       [-0.11518297, -2.21827213],\n",
       "       [-0.82236577, -0.57873145],\n",
       "       [-0.09601502, -2.39087411],\n",
       "       [-0.12665691, -2.12893349],\n",
       "       [-0.53313083, -0.88373891],\n",
       "       [-0.78632847, -0.60791335],\n",
       "       [-0.50100165, -0.93121006],\n",
       "       [-0.13021106, -2.10299781],\n",
       "       [-0.51374137, -0.911933  ],\n",
       "       [-1.00045972, -0.45840769],\n",
       "       [-2.66140972, -0.07240908],\n",
       "       [-0.15288523, -1.95353667],\n",
       "       [-0.07690378, -2.60340574],\n",
       "       [-0.13154023, -2.09349179],\n",
       "       [-0.1173964 , -2.20032304],\n",
       "       [-0.1522544 , -1.95736394],\n",
       "       [-1.15654365, -0.3777112 ],\n",
       "       [-0.07994505, -2.56612198],\n",
       "       [-0.94979045, -0.48910013],\n",
       "       [-0.51374137, -0.911933  ],\n",
       "       [-0.36677883, -1.18078667],\n",
       "       [-1.71696277, -0.19797647],\n",
       "       [-2.22112308, -0.11483548],\n",
       "       [-2.55003305, -0.08129583],\n",
       "       [-0.07430065, -2.63655586],\n",
       "       [-0.15906004, -1.91694963],\n",
       "       [-0.06581611, -2.75361819],\n",
       "       [-1.94509493, -0.15428661],\n",
       "       [-0.16472251, -1.8847239 ],\n",
       "       [-0.96960705, -0.4767979 ],\n",
       "       [-1.00045972, -0.45840769],\n",
       "       [-0.23556659, -1.56123388],\n",
       "       [-0.99485165, -0.46168361],\n",
       "       [-0.1173964 , -2.20032304],\n",
       "       [-0.13154023, -2.09349179],\n",
       "       [-0.69567971, -0.69062105],\n",
       "       [-0.26322828, -1.46346239],\n",
       "       [-0.53313083, -0.88373891],\n",
       "       [-0.1376174 , -2.05129763],\n",
       "       [-0.13603118, -2.06211581],\n",
       "       [-0.18406437, -1.78309067],\n",
       "       [-1.97591198, -0.14923673],\n",
       "       [-2.81653865, -0.06167608],\n",
       "       [-0.25372016, -1.49570261],\n",
       "       [-1.44438017, -0.26904646],\n",
       "       [-0.16472251, -1.8847239 ],\n",
       "       [-0.10779194, -2.28096429],\n",
       "       [-0.1723179 , -1.8433363 ],\n",
       "       [-0.13659929, -2.05822582],\n",
       "       [-0.38740048, -1.13575103],\n",
       "       [-1.23835393, -0.34229449],\n",
       "       [-0.14726625, -1.98824272],\n",
       "       [-0.34767037, -1.22530425],\n",
       "       [-0.13154023, -2.09349179],\n",
       "       [-0.16472251, -1.8847239 ],\n",
       "       [-0.1723179 , -1.8433363 ],\n",
       "       [-0.13154023, -2.09349179],\n",
       "       [-0.42244777, -1.06548845],\n",
       "       [-0.07072583, -2.68409898],\n",
       "       [-1.11122702, -0.39921692],\n",
       "       [-0.18262531, -1.79024208],\n",
       "       [-0.9551082 , -0.48575993],\n",
       "       [-0.54692787, -0.86446945],\n",
       "       [-1.4771058 , -0.25915613],\n",
       "       [-0.10075847, -2.34498523],\n",
       "       [-0.28121048, -1.40596428],\n",
       "       [-0.33452331, -1.25765197],\n",
       "       [-0.14726625, -1.98824272],\n",
       "       [-0.2725367 , -1.43315743],\n",
       "       [-0.06555633, -2.75744458],\n",
       "       [-0.29142672, -1.37514383],\n",
       "       [-0.10786468, -2.28032538],\n",
       "       [-1.23734457, -0.34270678],\n",
       "       [-0.51374137, -0.911933  ],\n",
       "       [-2.73098776, -0.06737443],\n",
       "       [-0.36052175, -1.19505405],\n",
       "       [-1.70582595, -0.20043133],\n",
       "       [-0.25428248, -1.49375804],\n",
       "       [-0.60344168, -0.79169992],\n",
       "       [-3.04487369, -0.0487726 ],\n",
       "       [-0.1173964 , -2.20032304],\n",
       "       [-0.13404746, -2.0758365 ],\n",
       "       [-1.12606542, -0.39201609],\n",
       "       [-0.20995689, -1.66399543],\n",
       "       [-2.43904861, -0.09128648],\n",
       "       [-0.1723179 , -1.8433363 ],\n",
       "       [-0.30293884, -1.34187284],\n",
       "       [-0.23825949, -1.55116044],\n",
       "       [-0.26515724, -1.4570831 ],\n",
       "       [-1.18126478, -0.36656706],\n",
       "       [-1.63343378, -0.21723349],\n",
       "       [-0.28248022, -1.40206427],\n",
       "       [-1.64372017, -0.21475353],\n",
       "       [-0.08977703, -2.45497887],\n",
       "       [-0.3704335 , -1.17258707],\n",
       "       [-0.1376174 , -2.05129763],\n",
       "       [-0.69798599, -0.68833167],\n",
       "       [-0.39906109, -1.1115447 ],\n",
       "       [-1.51239506, -0.24895061],\n",
       "       [-1.41882669, -0.27706898],\n",
       "       [-0.14726625, -1.98824272],\n",
       "       [-0.5642748 , -0.84111942],\n",
       "       [-0.1723179 , -1.8433363 ],\n",
       "       [-0.23825949, -1.55116044],\n",
       "       [-0.29170076, -1.3743343 ],\n",
       "       [-0.9551082 , -0.48575993],\n",
       "       [-1.19013172, -0.36266599],\n",
       "       [-0.73969033, -0.6486743 ],\n",
       "       [-0.1723179 , -1.8433363 ],\n",
       "       [-0.10877671, -2.27235341],\n",
       "       [-0.1173176 , -2.2009559 ],\n",
       "       [-0.13154023, -2.09349179],\n",
       "       [-0.22716802, -1.59350007],\n",
       "       [-1.04492377, -0.43343046],\n",
       "       [-0.13154023, -2.09349179],\n",
       "       [-1.21301765, -0.35282349],\n",
       "       [-0.1723179 , -1.8433363 ],\n",
       "       [-0.16472251, -1.8847239 ],\n",
       "       [-0.39882697, -1.11202224],\n",
       "       [-0.6602519 , -0.72716147],\n",
       "       [-2.33640566, -0.10167232],\n",
       "       [-2.01616106, -0.14290744],\n",
       "       [-0.22694792, -1.59436355],\n",
       "       [-0.37065386, -1.17209577],\n",
       "       [-0.13650845, -2.05884664],\n",
       "       [-1.41343364, -0.27879689],\n",
       "       [-1.11122702, -0.39921692],\n",
       "       [-0.92568705, -0.50461011],\n",
       "       [-0.06066947, -2.83249611],\n",
       "       [-2.22069905, -0.1148871 ],\n",
       "       [-1.48697194, -0.25625593],\n",
       "       [-0.12665691, -2.12893349],\n",
       "       [-0.10075847, -2.34498523],\n",
       "       [-3.23196901, -0.04028015],\n",
       "       [-0.23825949, -1.55116044],\n",
       "       [-1.60793834, -0.2235188 ],\n",
       "       [-0.13770892, -2.0506775 ],\n",
       "       [-0.42203884, -1.06626681],\n",
       "       [-0.13154023, -2.09349179],\n",
       "       [-1.19013172, -0.36266599],\n",
       "       [-0.1723179 , -1.8433363 ],\n",
       "       [-0.0926417 , -2.4249792 ]])"
      ]
     },
     "execution_count": 29,
     "metadata": {},
     "output_type": "execute_result"
    }
   ],
   "source": [
    "LogReg.predict_log_proba(X_test)"
   ]
  },
  {
   "cell_type": "code",
   "execution_count": null,
   "id": "33a24061",
   "metadata": {},
   "outputs": [],
   "source": []
  }
 ],
 "metadata": {
  "kernelspec": {
   "display_name": "Python 3",
   "language": "python",
   "name": "python3"
  },
  "language_info": {
   "codemirror_mode": {
    "name": "ipython",
    "version": 3
   },
   "file_extension": ".py",
   "mimetype": "text/x-python",
   "name": "python",
   "nbconvert_exporter": "python",
   "pygments_lexer": "ipython3",
   "version": "3.8.8"
  }
 },
 "nbformat": 4,
 "nbformat_minor": 5
}
